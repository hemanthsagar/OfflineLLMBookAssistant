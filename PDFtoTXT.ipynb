# Run these in colab

# installing required modules
!pip install PyPDF2

# Uploading the file
from google.colab import files

uploaded = files.upload()  # choose your PDF file

#Running the actual code to create text file from PDF
import PyPDF2

def pdf_to_text(pdf_path, txt_path):
    with open(pdf_path, 'rb') as pdf_file:
        reader = PyPDF2.PdfReader(pdf_file)
        text = ""

        for page_num, page in enumerate(reader.pages, start=1):
            page_text = page.extract_text()
            if page_text:
                text += f"\n--- Page {page_num} ---\n{page_text}\n"

    with open(txt_path, 'w', encoding='utf-8') as text_file:
        text_file.write(text)

    print(f"✅ Text extracted and saved to: {txt_path}")

# Example usage (replace with your filename)
pdf_to_text("Cracking-the-Coding-Interview-6th-Edition-189-Programming-Questions-and-Solutions.pdf", "output.txt")

#Downloading the generated text file
from google.colab import files
files.download("output.txt")
